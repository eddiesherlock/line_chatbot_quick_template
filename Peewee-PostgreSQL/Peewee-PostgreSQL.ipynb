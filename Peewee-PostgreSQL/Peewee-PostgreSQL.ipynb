{
 "cells": [
  {
   "cell_type": "code",
   "execution_count": 1,
   "metadata": {},
   "outputs": [
    {
     "name": "stdout",
     "output_type": "stream",
     "text": [
      "Collecting psycopg2\n",
      "  Downloading psycopg2-2.8.5-cp37-cp37m-win_amd64.whl (1.1 MB)\n",
      "Installing collected packages: psycopg2\n",
      "Successfully installed psycopg2-2.8.5\n",
      "Collecting peewee\n",
      "  Downloading peewee-3.13.3.tar.gz (2.3 MB)\n",
      "Building wheels for collected packages: peewee\n",
      "  Building wheel for peewee (setup.py): started\n",
      "  Building wheel for peewee (setup.py): finished with status 'done'\n",
      "  Created wheel for peewee: filename=peewee-3.13.3-py3-none-any.whl size=127269 sha256=45ec59c23d652440a6ac491a24d716c56f93fd8db0c3dd75247489ae22103028\n",
      "  Stored in directory: c:\\users\\big data\\appdata\\local\\pip\\cache\\wheels\\fa\\c2\\f9\\3e8ca7e14368b03928bab7b5909c415414b6594ca051a64835\n",
      "Successfully built peewee\n",
      "Installing collected packages: peewee\n",
      "Successfully installed peewee-3.13.3\n"
     ]
    }
   ],
   "source": [
    "\"\"\"\n",
    "安裝所需套件\n",
    "\n",
    "\"\"\"\n",
    "!pip install psycopg2\n",
    "!pip install peewee"
   ]
  },
  {
   "cell_type": "code",
   "execution_count": null,
   "metadata": {},
   "outputs": [],
   "source": [
    "\"\"\"\n",
    "Model.create(), for executing INSERT queries.\n",
    "Model.save() and Model.update(), for executing UPDATE queries.\n",
    "Model.delete_instance() and Model.delete(), for executing DELETE queries.\n",
    "Model.select(), for executing SELECT queries.\n",
    "\n",
    "\"\"\""
   ]
  },
  {
   "cell_type": "code",
   "execution_count": 2,
   "metadata": {},
   "outputs": [],
   "source": [
    "\"\"\"\n",
    "引用套件\n",
    "連接資料庫\n",
    "\n",
    "\"\"\"\n",
    "import peewee\n",
    "\n",
    "# # SQLite database using WAL journal mode and 64MB cache.\n",
    "# sqlite_db = peewee.SqliteDatabase('/path/to/app.db', pragmas={\n",
    "#     'journal_mode': 'wal',\n",
    "#     'cache_size': -1024 * 64})\n",
    "\n",
    "# # Connect to a MySQL database on network.\n",
    "# mysql_db = peewee.MySQLDatabase('my_app', user='app', password='db_password',\n",
    "#                          host='10.1.0.8', port=3316)\n",
    "\n",
    "# # Connect to a Postgres database.\n",
    "# pg_db = peewee.PostgresqlDatabase('my_app', user='postgres', password='secret',\n",
    "#                            host='10.1.0.9', port=5432)\n",
    "\n",
    "\n",
    "db = peewee.PostgresqlDatabase('d17al439m29602', \n",
    "                        user='nnryazusdyyyfk', \n",
    "                        password='7c62d256a40b32a55fa525dc3ee243d277982ebc3a1b4a67b7b42be038ffce06',\n",
    "                        host='ec2-52-202-146-43.compute-1.amazonaws.com', \n",
    "                        port=5432)\n",
    "\n"
   ]
  },
  {
   "cell_type": "code",
   "execution_count": 3,
   "metadata": {
    "scrolled": true
   },
   "outputs": [
    {
     "data": {
      "text/plain": [
       "True"
      ]
     },
     "execution_count": 3,
     "metadata": {},
     "output_type": "execute_result"
    }
   ],
   "source": [
    "\"\"\"\n",
    "立即連接資料庫，可以在此處就發現連線問題\n",
    "若沒有特別使用 db.connect()，則第一次query 時才真正建立連線\n",
    "\n",
    "\"\"\"\n",
    "db.connect()"
   ]
  },
  {
   "cell_type": "code",
   "execution_count": 4,
   "metadata": {},
   "outputs": [],
   "source": [
    "\"\"\"\n",
    "定義資料表\n",
    "    建立BaseModel類別，對應到資料庫中的表格。\n",
    "    類別中的屬性對應到表格中的欄位。\n",
    "\n",
    "在該類下創建子類別Meta\n",
    "    Meta是一個內部類，\n",
    "    用於定義peewee的Model類別的行為特性，\n",
    "    指定dabatase 為 前面定義的db。\n",
    "\n",
    "\"\"\"\n",
    "\n",
    "# 定義Person資料表\n",
    "class Person(peewee.Model):\n",
    "    # 定義欄位\n",
    "    name = peewee.CharField()\n",
    "    birthday = peewee.DateField()\n",
    "    \n",
    "    # 指定使用的資料庫\n",
    "    class Meta:\n",
    "        database = db\n",
    "\n",
    "# 定義Pet資料表\n",
    "class Pet(peewee.Model):\n",
    "    # 定義欄位\n",
    "    owner = peewee.ForeignKeyField(Person, backref='pets')\n",
    "    name = peewee.CharField()\n",
    "    animal_type = peewee.CharField()\n",
    "\n",
    "    # 指定使用的資料庫\n",
    "    class Meta:\n",
    "        database = db"
   ]
  },
  {
   "cell_type": "code",
   "execution_count": 5,
   "metadata": {},
   "outputs": [],
   "source": [
    "\"\"\"\n",
    "執行create_table()方法，將表格實際創建出來\n",
    "\n",
    "\"\"\"\n",
    "\n",
    "db.create_tables([Person, Pet])"
   ]
  },
  {
   "cell_type": "code",
   "execution_count": 7,
   "metadata": {},
   "outputs": [
    {
     "data": {
      "text/plain": [
       "\"\\ninsert\\n\\n    Storing data\\n    Let’s begin by populating the database with some people. \\n    We will use the save() and create() methods to add and update people's records.\\n\\n\""
      ]
     },
     "execution_count": 7,
     "metadata": {},
     "output_type": "execute_result"
    }
   ],
   "source": [
    "\"\"\"\n",
    "insert\n",
    "\n",
    "    Storing data\n",
    "    Let’s begin by populating the database with some people. \n",
    "    We will use the save() and create() methods to add and update people's records.\n",
    "\n",
    "\"\"\"\n",
    "\n",
    "# from datetime import date\n",
    "\n",
    "# # 第一種插入資料方式：建立instance時直接提供參數，呼叫save()儲存資料。\n",
    "# uncle_bob = Person(name='Bob', birthday=date(1960, 1, 15))\n",
    "# uncle_bob.save() # bob is now stored in the database # Returns: 1\n",
    "\n",
    "# # 第二種插入資料方式：呼叫create()直接儲存資料。\n",
    "# grandma = Person.create(name='Grandma', birthday=date(1935, 3, 1))\n",
    "# herb = Person.create(name='Herb', birthday=date(1950, 5, 5))\n",
    "\n",
    "# bob_kitty = Pet.create(owner=uncle_bob, name='Kitty', animal_type='cat')\n",
    "# herb_fido = Pet.create(owner=herb, name='Fido', animal_type='dog')\n",
    "# herb_mittens = Pet.create(owner=herb, name='Mittens', animal_type='cat')\n",
    "# herb_mittens_jr = Pet.create(owner=herb, name='Mittens Jr', animal_type='cat')"
   ]
  },
  {
   "cell_type": "code",
   "execution_count": 6,
   "metadata": {},
   "outputs": [
    {
     "data": {
      "text/plain": [
       "1"
      ]
     },
     "execution_count": 6,
     "metadata": {},
     "output_type": "execute_result"
    }
   ],
   "source": [
    "\"\"\"\n",
    "第一種插入資料方式：\n",
    "    建立instance時直接提供參數\n",
    "    隨後呼叫save()儲存資料。\n",
    "\n",
    "\"\"\"\n",
    "\n",
    "from datetime import date\n",
    "\n",
    "uncle_bob = Person(name='Bob', birthday=date(1960, 1, 15))\n",
    "uncle_bob.save() # bob is now stored in the database # Returns: 1\n"
   ]
  },
  {
   "cell_type": "code",
   "execution_count": 7,
   "metadata": {},
   "outputs": [],
   "source": [
    "\"\"\"\n",
    "第二種插入資料方式：\n",
    "    呼叫create()直接儲存資料。\n",
    "\n",
    "\"\"\"\n",
    "\n",
    "from datetime import date\n",
    "\n",
    "grandma = Person.create(name='Grandma', birthday=date(1935, 3, 1))\n",
    "herb = Person.create(name='Herb', birthday=date(1950, 5, 5))\n"
   ]
  },
  {
   "cell_type": "code",
   "execution_count": 8,
   "metadata": {},
   "outputs": [],
   "source": [
    "\"\"\"\n",
    "請練習在Pet資料表中也插入資料\n",
    "\n",
    "\"\"\"\n",
    "\n",
    "bob_kitty = Pet.create(owner=uncle_bob, name='Kitty', animal_type='cat')\n",
    "herb_fido = Pet.create(owner=herb, name='Fido', animal_type='dog')\n",
    "herb_mittens = Pet.create(owner=herb, name='Mittens', animal_type='cat')\n",
    "herb_mittens_jr = Pet.create(owner=herb, name='Mittens Jr', animal_type='cat')\n"
   ]
  },
  {
   "cell_type": "code",
   "execution_count": 9,
   "metadata": {
    "scrolled": true
   },
   "outputs": [
    {
     "name": "stdout",
     "output_type": "stream",
     "text": [
      "Herb 1950-05-05\n",
      "Grandma 1935-03-01\n"
     ]
    }
   ],
   "source": [
    "\"\"\"\n",
    "select\n",
    "\n",
    "Single record\n",
    "\n",
    "\"\"\"\n",
    "\n",
    "# To get a single record from the database, use Select.get():\n",
    "grandma = Person.select().where(Person.name == 'Herb').get()\n",
    "print(grandma.name, grandma.birthday)\n",
    "\n",
    "# We can also use the equivalent shorthand Model.get():\n",
    "grandma2 = Person.get(Person.name == 'Grandma')\n",
    "print(grandma2.name, grandma2.birthday)\n"
   ]
  },
  {
   "cell_type": "code",
   "execution_count": 10,
   "metadata": {},
   "outputs": [
    {
     "name": "stdout",
     "output_type": "stream",
     "text": [
      "<class 'peewee.ModelSelect'>\n",
      "1 Bob 1960-01-15\n",
      "2 Grandma 1935-03-01\n",
      "3 Herb 1950-05-05\n",
      "---分隔線---\n",
      "Pet's name:  Kitty ;  Owner's name:  Bob\n",
      "Pet's name:  Mittens ;  Owner's name:  Herb\n",
      "Pet's name:  Mittens Jr ;  Owner's name:  Herb\n"
     ]
    }
   ],
   "source": [
    "\"\"\"\n",
    "select\n",
    "\n",
    "lists of records\n",
    "\n",
    "\"\"\"\n",
    "print(type(Person.select()))  # 可用迴圈遍歷，但不是真的python的list\n",
    "\n",
    "# 使用select()，選取全部資料，再用迴圈一一列出。\n",
    "for person in Person.select():\n",
    "    print(person.id, person.name, person.birthday)\n",
    "\n",
    "print(\"---分隔線---\")\n",
    "\n",
    "# 使用更多SQL語句\n",
    "query = Pet.select().where(Pet.animal_type == 'cat')\n",
    "\n",
    "for pet in query:\n",
    "    print(\"Pet's name: \", pet.name, \"; \", \"Owner's name: \", pet.owner.name)"
   ]
  },
  {
   "cell_type": "code",
   "execution_count": 11,
   "metadata": {
    "scrolled": true
   },
   "outputs": [
    {
     "name": "stdout",
     "output_type": "stream",
     "text": [
      "<Model: Person>\n"
     ]
    },
    {
     "data": {
      "text/plain": [
       "1"
      ]
     },
     "execution_count": 11,
     "metadata": {},
     "output_type": "execute_result"
    }
   ],
   "source": [
    "\"\"\"\n",
    "update\n",
    "\n",
    "    When you call save(), the number of rows modified is returned.\n",
    "\n",
    "\"\"\"\n",
    "from datetime import date\n",
    "\n",
    "# step1 選出要變更的資料\n",
    "grandmaUpdate = Person.select().where(Person.name == 'Grandma').get()\n",
    "print(type(grandmaUpdate))\n",
    "\n",
    "# step2 變更欄位\n",
    "grandmaUpdate.name = 'Grandma L.'\n",
    "\n",
    "# step3 儲存變更\n",
    "grandmaUpdate.save()  # Update grandma's name in the database.\n",
    "# Returns: 1"
   ]
  },
  {
   "cell_type": "code",
   "execution_count": 12,
   "metadata": {},
   "outputs": [
    {
     "data": {
      "text/plain": [
       "1"
      ]
     },
     "execution_count": 12,
     "metadata": {},
     "output_type": "execute_result"
    }
   ],
   "source": [
    "\"\"\"\n",
    "delete\n",
    "\n",
    "\"\"\"\n",
    "# 刪除單筆資料：Model.delete_instance()\n",
    "person = Person.get(Person.name == 'Grandma L.')\n",
    "person.delete_instance()  # Returns the number of rows deleted.\n",
    "# 1\n",
    "\n",
    "\n",
    "# # 刪除多筆資料：Model.delete()\n",
    "# query = Person.delete().where(Person.id > 1)\n",
    "# query.execute()  # Returns the number of rows deleted."
   ]
  },
  {
   "cell_type": "code",
   "execution_count": 13,
   "metadata": {},
   "outputs": [],
   "source": [
    "\"\"\"\n",
    "關閉資料庫連線\n",
    "\n",
    "\"\"\"\n",
    "\n",
    "if db:\n",
    "    db.close()"
   ]
  },
  {
   "cell_type": "code",
   "execution_count": null,
   "metadata": {},
   "outputs": [],
   "source": []
  },
  {
   "cell_type": "code",
   "execution_count": null,
   "metadata": {},
   "outputs": [],
   "source": []
  },
  {
   "cell_type": "code",
   "execution_count": null,
   "metadata": {},
   "outputs": [],
   "source": []
  },
  {
   "cell_type": "code",
   "execution_count": null,
   "metadata": {},
   "outputs": [],
   "source": []
  },
  {
   "cell_type": "code",
   "execution_count": null,
   "metadata": {},
   "outputs": [],
   "source": []
  },
  {
   "cell_type": "code",
   "execution_count": null,
   "metadata": {},
   "outputs": [],
   "source": []
  },
  {
   "cell_type": "code",
   "execution_count": null,
   "metadata": {},
   "outputs": [],
   "source": []
  }
 ],
 "metadata": {
  "kernelspec": {
   "display_name": "Python 3",
   "language": "python",
   "name": "python3"
  },
  "language_info": {
   "codemirror_mode": {
    "name": "ipython",
    "version": 3
   },
   "file_extension": ".py",
   "mimetype": "text/x-python",
   "name": "python",
   "nbconvert_exporter": "python",
   "pygments_lexer": "ipython3",
   "version": "3.7.6"
  }
 },
 "nbformat": 4,
 "nbformat_minor": 4
}
